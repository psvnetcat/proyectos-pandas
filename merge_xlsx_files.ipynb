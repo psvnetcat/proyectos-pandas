{
 "cells": [
  {
   "cell_type": "code",
   "execution_count": 1,
   "metadata": {},
   "outputs": [],
   "source": [
    "import pandas as pd\n",
    "import numpy as np"
   ]
  },
  {
   "cell_type": "code",
   "execution_count": 2,
   "metadata": {},
   "outputs": [],
   "source": [
    "stock2000 = pd.read_excel('STOCK 2000.xlsx', sheet_name=0)\n",
    "stock = pd.read_excel('STOCK.xlsx', sheet_name=0)"
   ]
  },
  {
   "cell_type": "code",
   "execution_count": 3,
   "metadata": {},
   "outputs": [
    {
     "data": {
      "text/html": [
       "<div>\n",
       "<style scoped>\n",
       "    .dataframe tbody tr th:only-of-type {\n",
       "        vertical-align: middle;\n",
       "    }\n",
       "\n",
       "    .dataframe tbody tr th {\n",
       "        vertical-align: top;\n",
       "    }\n",
       "\n",
       "    .dataframe thead th {\n",
       "        text-align: right;\n",
       "    }\n",
       "</style>\n",
       "<table border=\"1\" class=\"dataframe\">\n",
       "  <thead>\n",
       "    <tr style=\"text-align: right;\">\n",
       "      <th></th>\n",
       "      <th>EMPRESA</th>\n",
       "      <th>SKU DIMERC</th>\n",
       "      <th>SKU GRAINGER</th>\n",
       "      <th>DESCRIPCION</th>\n",
       "    </tr>\n",
       "  </thead>\n",
       "  <tbody>\n",
       "    <tr>\n",
       "      <th>0</th>\n",
       "      <td>DIMERC</td>\n",
       "      <td>GR1NYC9</td>\n",
       "      <td>1NYC9</td>\n",
       "      <td>10\" Adjustable Wrench, Cushion Grip Handle, 1-...</td>\n",
       "    </tr>\n",
       "    <tr>\n",
       "      <th>1</th>\n",
       "      <td>DIMERC</td>\n",
       "      <td>GR1NYA5</td>\n",
       "      <td>1NYA5</td>\n",
       "      <td>12\" Adjustable Wrench, Plain Handle, 1-1/2\" Ja...</td>\n",
       "    </tr>\n",
       "    <tr>\n",
       "      <th>2</th>\n",
       "      <td>DIMERC</td>\n",
       "      <td>GR3R385</td>\n",
       "      <td>3R385</td>\n",
       "      <td>12\" Adjustable Wrench, Plain Handle, 1-1/2\" Ja...</td>\n",
       "    </tr>\n",
       "    <tr>\n",
       "      <th>3</th>\n",
       "      <td>DIMERC</td>\n",
       "      <td>GR1NYB1</td>\n",
       "      <td>1NYB1</td>\n",
       "      <td>6\" Adjustable Wrench, Plain Handle, 3/4\" Jaw C...</td>\n",
       "    </tr>\n",
       "    <tr>\n",
       "      <th>4</th>\n",
       "      <td>DIMERC</td>\n",
       "      <td>GR3R357</td>\n",
       "      <td>3R357</td>\n",
       "      <td>4\" Adjustable Wrench, Plain Handle, 1/2\" Jaw C...</td>\n",
       "    </tr>\n",
       "  </tbody>\n",
       "</table>\n",
       "</div>"
      ],
      "text/plain": [
       "  EMPRESA SKU DIMERC SKU GRAINGER  \\\n",
       "0  DIMERC    GR1NYC9        1NYC9   \n",
       "1  DIMERC    GR1NYA5        1NYA5   \n",
       "2  DIMERC    GR3R385        3R385   \n",
       "3  DIMERC    GR1NYB1        1NYB1   \n",
       "4  DIMERC    GR3R357        3R357   \n",
       "\n",
       "                                         DESCRIPCION  \n",
       "0  10\" Adjustable Wrench, Cushion Grip Handle, 1-...  \n",
       "1  12\" Adjustable Wrench, Plain Handle, 1-1/2\" Ja...  \n",
       "2  12\" Adjustable Wrench, Plain Handle, 1-1/2\" Ja...  \n",
       "3  6\" Adjustable Wrench, Plain Handle, 3/4\" Jaw C...  \n",
       "4  4\" Adjustable Wrench, Plain Handle, 1/2\" Jaw C...  "
      ]
     },
     "execution_count": 3,
     "metadata": {},
     "output_type": "execute_result"
    }
   ],
   "source": [
    "stock2000.head()"
   ]
  },
  {
   "cell_type": "code",
   "execution_count": 4,
   "metadata": {},
   "outputs": [
    {
     "data": {
      "text/plain": [
       "(1435, 4)"
      ]
     },
     "execution_count": 4,
     "metadata": {},
     "output_type": "execute_result"
    }
   ],
   "source": [
    "stock2000.shape"
   ]
  },
  {
   "cell_type": "code",
   "execution_count": 5,
   "metadata": {},
   "outputs": [
    {
     "data": {
      "text/html": [
       "<div>\n",
       "<style scoped>\n",
       "    .dataframe tbody tr th:only-of-type {\n",
       "        vertical-align: middle;\n",
       "    }\n",
       "\n",
       "    .dataframe tbody tr th {\n",
       "        vertical-align: top;\n",
       "    }\n",
       "\n",
       "    .dataframe thead th {\n",
       "        text-align: right;\n",
       "    }\n",
       "</style>\n",
       "<table border=\"1\" class=\"dataframe\">\n",
       "  <thead>\n",
       "    <tr style=\"text-align: right;\">\n",
       "      <th></th>\n",
       "      <th>EMPRESA</th>\n",
       "      <th>SKU DIMERC</th>\n",
       "      <th>SKU GRAINGER</th>\n",
       "      <th>DESCRIPCION</th>\n",
       "      <th>MARCA</th>\n",
       "    </tr>\n",
       "  </thead>\n",
       "  <tbody>\n",
       "    <tr>\n",
       "      <th>0</th>\n",
       "      <td>DIMERC</td>\n",
       "      <td>E03AK17</td>\n",
       "      <td>3AK17</td>\n",
       "      <td>ADPTADOR PREFILTRO SERIES 7500 6000 PQ20</td>\n",
       "      <td>3M</td>\n",
       "    </tr>\n",
       "    <tr>\n",
       "      <th>1</th>\n",
       "      <td>DIMERC</td>\n",
       "      <td>E09XZA9</td>\n",
       "      <td>9XZA9</td>\n",
       "      <td>ALMOHADILLA ABSORB,BLANCO,25 GAL.,PQ100</td>\n",
       "      <td>3M</td>\n",
       "    </tr>\n",
       "    <tr>\n",
       "      <th>2</th>\n",
       "      <td>DIMERC</td>\n",
       "      <td>E06AM37</td>\n",
       "      <td>6AM37</td>\n",
       "      <td>CARTUCHO QUÍMICO,PQ2</td>\n",
       "      <td>3M</td>\n",
       "    </tr>\n",
       "    <tr>\n",
       "      <th>3</th>\n",
       "      <td>DIMERC</td>\n",
       "      <td>E21E371</td>\n",
       "      <td>21E371</td>\n",
       "      <td>CASCO DE SEGURIDAD ALA FRONT BLCO 4 PTOS C,G,E 3M</td>\n",
       "      <td>3M</td>\n",
       "    </tr>\n",
       "    <tr>\n",
       "      <th>4</th>\n",
       "      <td>DIMERC</td>\n",
       "      <td>E21E373</td>\n",
       "      <td>21E373</td>\n",
       "      <td>CASCO DE SEGURIDAD,ALA FRONT.,ANSI C,G,E</td>\n",
       "      <td>3M</td>\n",
       "    </tr>\n",
       "  </tbody>\n",
       "</table>\n",
       "</div>"
      ],
      "text/plain": [
       "  EMPRESA SKU DIMERC SKU GRAINGER  \\\n",
       "0  DIMERC    E03AK17        3AK17   \n",
       "1  DIMERC    E09XZA9        9XZA9   \n",
       "2  DIMERC    E06AM37        6AM37   \n",
       "3  DIMERC    E21E371       21E371   \n",
       "4  DIMERC    E21E373       21E373   \n",
       "\n",
       "                                         DESCRIPCION MARCA  \n",
       "0           ADPTADOR PREFILTRO SERIES 7500 6000 PQ20    3M  \n",
       "1            ALMOHADILLA ABSORB,BLANCO,25 GAL.,PQ100    3M  \n",
       "2                               CARTUCHO QUÍMICO,PQ2    3M  \n",
       "3  CASCO DE SEGURIDAD ALA FRONT BLCO 4 PTOS C,G,E 3M    3M  \n",
       "4           CASCO DE SEGURIDAD,ALA FRONT.,ANSI C,G,E    3M  "
      ]
     },
     "execution_count": 5,
     "metadata": {},
     "output_type": "execute_result"
    }
   ],
   "source": [
    "stock.head()"
   ]
  },
  {
   "cell_type": "code",
   "execution_count": 6,
   "metadata": {},
   "outputs": [
    {
     "data": {
      "text/plain": [
       "(673, 5)"
      ]
     },
     "execution_count": 6,
     "metadata": {},
     "output_type": "execute_result"
    }
   ],
   "source": [
    "stock.shape"
   ]
  },
  {
   "cell_type": "code",
   "execution_count": 7,
   "metadata": {},
   "outputs": [],
   "source": [
    "merged = pd.merge(stock, stock2000, how='outer', on=['SKU GRAINGER','EMPRESA'])"
   ]
  },
  {
   "cell_type": "code",
   "execution_count": 8,
   "metadata": {},
   "outputs": [
    {
     "data": {
      "text/html": [
       "<div>\n",
       "<style scoped>\n",
       "    .dataframe tbody tr th:only-of-type {\n",
       "        vertical-align: middle;\n",
       "    }\n",
       "\n",
       "    .dataframe tbody tr th {\n",
       "        vertical-align: top;\n",
       "    }\n",
       "\n",
       "    .dataframe thead th {\n",
       "        text-align: right;\n",
       "    }\n",
       "</style>\n",
       "<table border=\"1\" class=\"dataframe\">\n",
       "  <thead>\n",
       "    <tr style=\"text-align: right;\">\n",
       "      <th></th>\n",
       "      <th>EMPRESA</th>\n",
       "      <th>SKU DIMERC_x</th>\n",
       "      <th>SKU GRAINGER</th>\n",
       "      <th>DESCRIPCION_x</th>\n",
       "      <th>MARCA</th>\n",
       "      <th>SKU DIMERC_y</th>\n",
       "      <th>DESCRIPCION_y</th>\n",
       "    </tr>\n",
       "  </thead>\n",
       "  <tbody>\n",
       "    <tr>\n",
       "      <th>0</th>\n",
       "      <td>DIMERC</td>\n",
       "      <td>E03AK17</td>\n",
       "      <td>3AK17</td>\n",
       "      <td>ADPTADOR PREFILTRO SERIES 7500 6000 PQ20</td>\n",
       "      <td>3M</td>\n",
       "      <td>NaN</td>\n",
       "      <td>NaN</td>\n",
       "    </tr>\n",
       "    <tr>\n",
       "      <th>1</th>\n",
       "      <td>DIMERC</td>\n",
       "      <td>E09XZA9</td>\n",
       "      <td>9XZA9</td>\n",
       "      <td>ALMOHADILLA ABSORB,BLANCO,25 GAL.,PQ100</td>\n",
       "      <td>3M</td>\n",
       "      <td>NaN</td>\n",
       "      <td>NaN</td>\n",
       "    </tr>\n",
       "    <tr>\n",
       "      <th>2</th>\n",
       "      <td>DIMERC</td>\n",
       "      <td>E06AM37</td>\n",
       "      <td>6AM37</td>\n",
       "      <td>CARTUCHO QUÍMICO,PQ2</td>\n",
       "      <td>3M</td>\n",
       "      <td>NaN</td>\n",
       "      <td>NaN</td>\n",
       "    </tr>\n",
       "    <tr>\n",
       "      <th>3</th>\n",
       "      <td>DIMERC</td>\n",
       "      <td>E21E371</td>\n",
       "      <td>21E371</td>\n",
       "      <td>CASCO DE SEGURIDAD ALA FRONT BLCO 4 PTOS C,G,E 3M</td>\n",
       "      <td>3M</td>\n",
       "      <td>NaN</td>\n",
       "      <td>NaN</td>\n",
       "    </tr>\n",
       "    <tr>\n",
       "      <th>4</th>\n",
       "      <td>DIMERC</td>\n",
       "      <td>E21E373</td>\n",
       "      <td>21E373</td>\n",
       "      <td>CASCO DE SEGURIDAD,ALA FRONT.,ANSI C,G,E</td>\n",
       "      <td>3M</td>\n",
       "      <td>NaN</td>\n",
       "      <td>NaN</td>\n",
       "    </tr>\n",
       "  </tbody>\n",
       "</table>\n",
       "</div>"
      ],
      "text/plain": [
       "  EMPRESA SKU DIMERC_x SKU GRAINGER  \\\n",
       "0  DIMERC      E03AK17        3AK17   \n",
       "1  DIMERC      E09XZA9        9XZA9   \n",
       "2  DIMERC      E06AM37        6AM37   \n",
       "3  DIMERC      E21E371       21E371   \n",
       "4  DIMERC      E21E373       21E373   \n",
       "\n",
       "                                       DESCRIPCION_x MARCA SKU DIMERC_y  \\\n",
       "0           ADPTADOR PREFILTRO SERIES 7500 6000 PQ20    3M          NaN   \n",
       "1            ALMOHADILLA ABSORB,BLANCO,25 GAL.,PQ100    3M          NaN   \n",
       "2                               CARTUCHO QUÍMICO,PQ2    3M          NaN   \n",
       "3  CASCO DE SEGURIDAD ALA FRONT BLCO 4 PTOS C,G,E 3M    3M          NaN   \n",
       "4           CASCO DE SEGURIDAD,ALA FRONT.,ANSI C,G,E    3M          NaN   \n",
       "\n",
       "  DESCRIPCION_y  \n",
       "0           NaN  \n",
       "1           NaN  \n",
       "2           NaN  \n",
       "3           NaN  \n",
       "4           NaN  "
      ]
     },
     "execution_count": 8,
     "metadata": {},
     "output_type": "execute_result"
    }
   ],
   "source": [
    "merged.head()"
   ]
  },
  {
   "cell_type": "code",
   "execution_count": 9,
   "metadata": {},
   "outputs": [
    {
     "data": {
      "text/plain": [
       "(2041, 7)"
      ]
     },
     "execution_count": 9,
     "metadata": {},
     "output_type": "execute_result"
    }
   ],
   "source": [
    "merged.shape"
   ]
  },
  {
   "cell_type": "code",
   "execution_count": 10,
   "metadata": {},
   "outputs": [],
   "source": [
    "inner = pd.merge(stock, stock2000, how='inner', on='SKU GRAINGER')"
   ]
  },
  {
   "cell_type": "code",
   "execution_count": 11,
   "metadata": {},
   "outputs": [
    {
     "data": {
      "text/html": [
       "<div>\n",
       "<style scoped>\n",
       "    .dataframe tbody tr th:only-of-type {\n",
       "        vertical-align: middle;\n",
       "    }\n",
       "\n",
       "    .dataframe tbody tr th {\n",
       "        vertical-align: top;\n",
       "    }\n",
       "\n",
       "    .dataframe thead th {\n",
       "        text-align: right;\n",
       "    }\n",
       "</style>\n",
       "<table border=\"1\" class=\"dataframe\">\n",
       "  <thead>\n",
       "    <tr style=\"text-align: right;\">\n",
       "      <th></th>\n",
       "      <th>EMPRESA_x</th>\n",
       "      <th>SKU DIMERC_x</th>\n",
       "      <th>SKU GRAINGER</th>\n",
       "      <th>DESCRIPCION_x</th>\n",
       "      <th>MARCA</th>\n",
       "      <th>EMPRESA_y</th>\n",
       "      <th>SKU DIMERC_y</th>\n",
       "      <th>DESCRIPCION_y</th>\n",
       "    </tr>\n",
       "  </thead>\n",
       "  <tbody>\n",
       "    <tr>\n",
       "      <th>0</th>\n",
       "      <td>DIMERC</td>\n",
       "      <td>GR2CYC4</td>\n",
       "      <td>2CYC4</td>\n",
       "      <td>Hex Key Set 22 Pieces</td>\n",
       "      <td>FLUKE</td>\n",
       "      <td>DIMERC</td>\n",
       "      <td>GR2CYC4</td>\n",
       "      <td>Long Plain SAE/Metric Black Oxide Hex Key Set,...</td>\n",
       "    </tr>\n",
       "    <tr>\n",
       "      <th>1</th>\n",
       "      <td>DIMERC</td>\n",
       "      <td>GR32H620</td>\n",
       "      <td>32H620</td>\n",
       "      <td>INSULATD SCREWDRIVER,PHILLIPS 1X4 RND</td>\n",
       "      <td>FLUKE</td>\n",
       "      <td>DIMERC</td>\n",
       "      <td>GR32H620</td>\n",
       "      <td>Steel Insulated Screwdriver with 4\" Shank and ...</td>\n",
       "    </tr>\n",
       "    <tr>\n",
       "      <th>2</th>\n",
       "      <td>DIMERC</td>\n",
       "      <td>GR32H796</td>\n",
       "      <td>32H796</td>\n",
       "      <td>INSULATD SCREWDRIVER,SLOTTED 3/32X3 RND</td>\n",
       "      <td>FLUKE</td>\n",
       "      <td>DIMERC</td>\n",
       "      <td>GR32H796</td>\n",
       "      <td>Steel Insulated Screwdriver with 3\" Shank and ...</td>\n",
       "    </tr>\n",
       "    <tr>\n",
       "      <th>3</th>\n",
       "      <td>DIMERC</td>\n",
       "      <td>GR32H617</td>\n",
       "      <td>32H617</td>\n",
       "      <td>INSULATD SCREWDRIVR SLOTTD 1/4X5 7/8 RND</td>\n",
       "      <td>FLUKE</td>\n",
       "      <td>DIMERC</td>\n",
       "      <td>GR32H617</td>\n",
       "      <td>Steel Insulated Screwdriver with 5-7/8\" Shank ...</td>\n",
       "    </tr>\n",
       "    <tr>\n",
       "      <th>4</th>\n",
       "      <td>DIMERC</td>\n",
       "      <td>E01UDP3</td>\n",
       "      <td>1UDP3</td>\n",
       "      <td>ANILLO D/RET. D/DADOS D/IMP.,1-5/8PULG.</td>\n",
       "      <td>PROTO</td>\n",
       "      <td>DIMERC</td>\n",
       "      <td>GR1UDP3</td>\n",
       "      <td>Impact Socket Retaining Pin,1-5/8\" ID</td>\n",
       "    </tr>\n",
       "  </tbody>\n",
       "</table>\n",
       "</div>"
      ],
      "text/plain": [
       "  EMPRESA_x SKU DIMERC_x SKU GRAINGER  \\\n",
       "0    DIMERC      GR2CYC4        2CYC4   \n",
       "1    DIMERC     GR32H620       32H620   \n",
       "2    DIMERC     GR32H796       32H796   \n",
       "3    DIMERC     GR32H617       32H617   \n",
       "4    DIMERC      E01UDP3        1UDP3   \n",
       "\n",
       "                              DESCRIPCION_x  MARCA EMPRESA_y SKU DIMERC_y  \\\n",
       "0                     Hex Key Set 22 Pieces  FLUKE    DIMERC      GR2CYC4   \n",
       "1     INSULATD SCREWDRIVER,PHILLIPS 1X4 RND  FLUKE    DIMERC     GR32H620   \n",
       "2   INSULATD SCREWDRIVER,SLOTTED 3/32X3 RND  FLUKE    DIMERC     GR32H796   \n",
       "3  INSULATD SCREWDRIVR SLOTTD 1/4X5 7/8 RND  FLUKE    DIMERC     GR32H617   \n",
       "4   ANILLO D/RET. D/DADOS D/IMP.,1-5/8PULG.  PROTO    DIMERC      GR1UDP3   \n",
       "\n",
       "                                       DESCRIPCION_y  \n",
       "0  Long Plain SAE/Metric Black Oxide Hex Key Set,...  \n",
       "1  Steel Insulated Screwdriver with 4\" Shank and ...  \n",
       "2  Steel Insulated Screwdriver with 3\" Shank and ...  \n",
       "3  Steel Insulated Screwdriver with 5-7/8\" Shank ...  \n",
       "4              Impact Socket Retaining Pin,1-5/8\" ID  "
      ]
     },
     "execution_count": 11,
     "metadata": {},
     "output_type": "execute_result"
    }
   ],
   "source": [
    "inner.head()"
   ]
  },
  {
   "cell_type": "code",
   "execution_count": 12,
   "metadata": {},
   "outputs": [
    {
     "data": {
      "text/plain": [
       "(67, 8)"
      ]
     },
     "execution_count": 12,
     "metadata": {},
     "output_type": "execute_result"
    }
   ],
   "source": [
    "inner.shape"
   ]
  },
  {
   "cell_type": "code",
   "execution_count": 13,
   "metadata": {
    "scrolled": true
   },
   "outputs": [],
   "source": [
    "#merged['DESCRIPCION_y'].duplicated(keep=False)"
   ]
  },
  {
   "cell_type": "code",
   "execution_count": 14,
   "metadata": {},
   "outputs": [],
   "source": [
    "final = merged.loc[:,['EMPRESA','SKU DIMERC_x','SKU DIMERC_y','SKU GRAINGER','MARCA','DESCRIPCION_x','DESCRIPCION_y']]"
   ]
  },
  {
   "cell_type": "code",
   "execution_count": 15,
   "metadata": {},
   "outputs": [],
   "source": [
    "writer = pd.ExcelWriter('merged_daniel.xlsx')\n",
    "final.to_excel(writer,'hoja 1',index=False)\n",
    "writer.save()"
   ]
  }
 ],
 "metadata": {
  "kernelspec": {
   "display_name": "Python 3",
   "language": "python",
   "name": "python3"
  },
  "language_info": {
   "codemirror_mode": {
    "name": "ipython",
    "version": 3
   },
   "file_extension": ".py",
   "mimetype": "text/x-python",
   "name": "python",
   "nbconvert_exporter": "python",
   "pygments_lexer": "ipython3",
   "version": "3.6.5"
  }
 },
 "nbformat": 4,
 "nbformat_minor": 2
}
