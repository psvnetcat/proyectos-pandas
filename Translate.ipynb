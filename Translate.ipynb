{
 "cells": [
  {
   "cell_type": "code",
   "execution_count": 1,
   "metadata": {},
   "outputs": [],
   "source": [
    "from mtranslate import translate\n",
    "import pandas as pd"
   ]
  },
  {
   "cell_type": "code",
   "execution_count": 2,
   "metadata": {},
   "outputs": [],
   "source": [
    "archivo = pd.read_excel('STOCK TOTAL.xlsx', sheet_name=0)"
   ]
  },
  {
   "cell_type": "code",
   "execution_count": 3,
   "metadata": {},
   "outputs": [
    {
     "data": {
      "text/html": [
       "<div>\n",
       "<style scoped>\n",
       "    .dataframe tbody tr th:only-of-type {\n",
       "        vertical-align: middle;\n",
       "    }\n",
       "\n",
       "    .dataframe tbody tr th {\n",
       "        vertical-align: top;\n",
       "    }\n",
       "\n",
       "    .dataframe thead th {\n",
       "        text-align: right;\n",
       "    }\n",
       "</style>\n",
       "<table border=\"1\" class=\"dataframe\">\n",
       "  <thead>\n",
       "    <tr style=\"text-align: right;\">\n",
       "      <th></th>\n",
       "      <th>EMPRESA</th>\n",
       "      <th>SKU DIMERC_x</th>\n",
       "      <th>SKU DIMERC_y</th>\n",
       "      <th>SKU GRAINGER</th>\n",
       "      <th>MARCA</th>\n",
       "      <th>DESCRIPCION_x</th>\n",
       "      <th>DESCRIPCION_y</th>\n",
       "    </tr>\n",
       "  </thead>\n",
       "  <tbody>\n",
       "    <tr>\n",
       "      <th>0</th>\n",
       "      <td>DIMERC</td>\n",
       "      <td>E03AK17</td>\n",
       "      <td>NaN</td>\n",
       "      <td>3AK17</td>\n",
       "      <td>3M</td>\n",
       "      <td>ADPTADOR PREFILTRO SERIES 7500 6000 PQ20</td>\n",
       "      <td>NaN</td>\n",
       "    </tr>\n",
       "    <tr>\n",
       "      <th>1</th>\n",
       "      <td>DIMERC</td>\n",
       "      <td>E09XZA9</td>\n",
       "      <td>NaN</td>\n",
       "      <td>9XZA9</td>\n",
       "      <td>3M</td>\n",
       "      <td>ALMOHADILLA ABSORB,BLANCO,25 GAL.,PQ100</td>\n",
       "      <td>NaN</td>\n",
       "    </tr>\n",
       "    <tr>\n",
       "      <th>2</th>\n",
       "      <td>DIMERC</td>\n",
       "      <td>E06AM37</td>\n",
       "      <td>NaN</td>\n",
       "      <td>6AM37</td>\n",
       "      <td>3M</td>\n",
       "      <td>CARTUCHO QUÍMICO,PQ2</td>\n",
       "      <td>NaN</td>\n",
       "    </tr>\n",
       "    <tr>\n",
       "      <th>3</th>\n",
       "      <td>DIMERC</td>\n",
       "      <td>E21E371</td>\n",
       "      <td>NaN</td>\n",
       "      <td>21E371</td>\n",
       "      <td>3M</td>\n",
       "      <td>CASCO DE SEGURIDAD ALA FRONT BLCO 4 PTOS C,G,E 3M</td>\n",
       "      <td>NaN</td>\n",
       "    </tr>\n",
       "    <tr>\n",
       "      <th>4</th>\n",
       "      <td>DIMERC</td>\n",
       "      <td>E21E373</td>\n",
       "      <td>NaN</td>\n",
       "      <td>21E373</td>\n",
       "      <td>3M</td>\n",
       "      <td>CASCO DE SEGURIDAD,ALA FRONT.,ANSI C,G,E</td>\n",
       "      <td>NaN</td>\n",
       "    </tr>\n",
       "  </tbody>\n",
       "</table>\n",
       "</div>"
      ],
      "text/plain": [
       "  EMPRESA SKU DIMERC_x SKU DIMERC_y SKU GRAINGER MARCA  \\\n",
       "0  DIMERC      E03AK17          NaN        3AK17    3M   \n",
       "1  DIMERC      E09XZA9          NaN        9XZA9    3M   \n",
       "2  DIMERC      E06AM37          NaN        6AM37    3M   \n",
       "3  DIMERC      E21E371          NaN       21E371    3M   \n",
       "4  DIMERC      E21E373          NaN       21E373    3M   \n",
       "\n",
       "                                       DESCRIPCION_x DESCRIPCION_y  \n",
       "0           ADPTADOR PREFILTRO SERIES 7500 6000 PQ20           NaN  \n",
       "1            ALMOHADILLA ABSORB,BLANCO,25 GAL.,PQ100           NaN  \n",
       "2                               CARTUCHO QUÍMICO,PQ2           NaN  \n",
       "3  CASCO DE SEGURIDAD ALA FRONT BLCO 4 PTOS C,G,E 3M           NaN  \n",
       "4           CASCO DE SEGURIDAD,ALA FRONT.,ANSI C,G,E           NaN  "
      ]
     },
     "execution_count": 3,
     "metadata": {},
     "output_type": "execute_result"
    }
   ],
   "source": [
    "archivo.head()"
   ]
  },
  {
   "cell_type": "code",
   "execution_count": 4,
   "metadata": {},
   "outputs": [],
   "source": [
    "traduccion = archivo.loc[0:900,'DESCRIPCION_x'].map(lambda x: translate(x,\"en\",\"auto\"), na_action=None)"
   ]
  },
  {
   "cell_type": "code",
   "execution_count": 5,
   "metadata": {},
   "outputs": [
    {
     "data": {
      "text/plain": [
       "0          ADPTADOR PREFILTER SERIES 7500 6000 PQ20\n",
       "1                 ABSORB PAD, WHITE, 25 GAL., PQ100\n",
       "2                           CHEMICAL CARTRIDGE, PQ2\n",
       "3    SAFETY HELMET ALA FRONT BLCO 4 PTOS C, G, E 3M\n",
       "4           SAFETY HELMET, ALA FRONT., ANSI C, G, E\n",
       "Name: DESCRIPCION_x, dtype: object"
      ]
     },
     "execution_count": 5,
     "metadata": {},
     "output_type": "execute_result"
    }
   ],
   "source": [
    "traduccion.head()"
   ]
  },
  {
   "cell_type": "code",
   "execution_count": 6,
   "metadata": {},
   "outputs": [],
   "source": [
    "concatenado = pd.concat([archivo, traduccion], axis=1, join='inner')"
   ]
  },
  {
   "cell_type": "code",
   "execution_count": 7,
   "metadata": {},
   "outputs": [
    {
     "data": {
      "text/html": [
       "<div>\n",
       "<style scoped>\n",
       "    .dataframe tbody tr th:only-of-type {\n",
       "        vertical-align: middle;\n",
       "    }\n",
       "\n",
       "    .dataframe tbody tr th {\n",
       "        vertical-align: top;\n",
       "    }\n",
       "\n",
       "    .dataframe thead th {\n",
       "        text-align: right;\n",
       "    }\n",
       "</style>\n",
       "<table border=\"1\" class=\"dataframe\">\n",
       "  <thead>\n",
       "    <tr style=\"text-align: right;\">\n",
       "      <th></th>\n",
       "      <th>EMPRESA</th>\n",
       "      <th>SKU DIMERC_x</th>\n",
       "      <th>SKU DIMERC_y</th>\n",
       "      <th>SKU GRAINGER</th>\n",
       "      <th>MARCA</th>\n",
       "      <th>DESCRIPCION_x</th>\n",
       "      <th>DESCRIPCION_y</th>\n",
       "      <th>DESCRIPCION_x</th>\n",
       "    </tr>\n",
       "  </thead>\n",
       "  <tbody>\n",
       "    <tr>\n",
       "      <th>0</th>\n",
       "      <td>DIMERC</td>\n",
       "      <td>E03AK17</td>\n",
       "      <td>NaN</td>\n",
       "      <td>3AK17</td>\n",
       "      <td>3M</td>\n",
       "      <td>ADPTADOR PREFILTRO SERIES 7500 6000 PQ20</td>\n",
       "      <td>NaN</td>\n",
       "      <td>ADPTADOR PREFILTER SERIES 7500 6000 PQ20</td>\n",
       "    </tr>\n",
       "    <tr>\n",
       "      <th>1</th>\n",
       "      <td>DIMERC</td>\n",
       "      <td>E09XZA9</td>\n",
       "      <td>NaN</td>\n",
       "      <td>9XZA9</td>\n",
       "      <td>3M</td>\n",
       "      <td>ALMOHADILLA ABSORB,BLANCO,25 GAL.,PQ100</td>\n",
       "      <td>NaN</td>\n",
       "      <td>ABSORB PAD, WHITE, 25 GAL., PQ100</td>\n",
       "    </tr>\n",
       "    <tr>\n",
       "      <th>2</th>\n",
       "      <td>DIMERC</td>\n",
       "      <td>E06AM37</td>\n",
       "      <td>NaN</td>\n",
       "      <td>6AM37</td>\n",
       "      <td>3M</td>\n",
       "      <td>CARTUCHO QUÍMICO,PQ2</td>\n",
       "      <td>NaN</td>\n",
       "      <td>CHEMICAL CARTRIDGE, PQ2</td>\n",
       "    </tr>\n",
       "    <tr>\n",
       "      <th>3</th>\n",
       "      <td>DIMERC</td>\n",
       "      <td>E21E371</td>\n",
       "      <td>NaN</td>\n",
       "      <td>21E371</td>\n",
       "      <td>3M</td>\n",
       "      <td>CASCO DE SEGURIDAD ALA FRONT BLCO 4 PTOS C,G,E 3M</td>\n",
       "      <td>NaN</td>\n",
       "      <td>SAFETY HELMET ALA FRONT BLCO 4 PTOS C, G, E 3M</td>\n",
       "    </tr>\n",
       "    <tr>\n",
       "      <th>4</th>\n",
       "      <td>DIMERC</td>\n",
       "      <td>E21E373</td>\n",
       "      <td>NaN</td>\n",
       "      <td>21E373</td>\n",
       "      <td>3M</td>\n",
       "      <td>CASCO DE SEGURIDAD,ALA FRONT.,ANSI C,G,E</td>\n",
       "      <td>NaN</td>\n",
       "      <td>SAFETY HELMET, ALA FRONT., ANSI C, G, E</td>\n",
       "    </tr>\n",
       "  </tbody>\n",
       "</table>\n",
       "</div>"
      ],
      "text/plain": [
       "  EMPRESA SKU DIMERC_x SKU DIMERC_y SKU GRAINGER MARCA  \\\n",
       "0  DIMERC      E03AK17          NaN        3AK17    3M   \n",
       "1  DIMERC      E09XZA9          NaN        9XZA9    3M   \n",
       "2  DIMERC      E06AM37          NaN        6AM37    3M   \n",
       "3  DIMERC      E21E371          NaN       21E371    3M   \n",
       "4  DIMERC      E21E373          NaN       21E373    3M   \n",
       "\n",
       "                                       DESCRIPCION_x DESCRIPCION_y  \\\n",
       "0           ADPTADOR PREFILTRO SERIES 7500 6000 PQ20           NaN   \n",
       "1            ALMOHADILLA ABSORB,BLANCO,25 GAL.,PQ100           NaN   \n",
       "2                               CARTUCHO QUÍMICO,PQ2           NaN   \n",
       "3  CASCO DE SEGURIDAD ALA FRONT BLCO 4 PTOS C,G,E 3M           NaN   \n",
       "4           CASCO DE SEGURIDAD,ALA FRONT.,ANSI C,G,E           NaN   \n",
       "\n",
       "                                    DESCRIPCION_x  \n",
       "0        ADPTADOR PREFILTER SERIES 7500 6000 PQ20  \n",
       "1               ABSORB PAD, WHITE, 25 GAL., PQ100  \n",
       "2                         CHEMICAL CARTRIDGE, PQ2  \n",
       "3  SAFETY HELMET ALA FRONT BLCO 4 PTOS C, G, E 3M  \n",
       "4         SAFETY HELMET, ALA FRONT., ANSI C, G, E  "
      ]
     },
     "execution_count": 7,
     "metadata": {},
     "output_type": "execute_result"
    }
   ],
   "source": [
    "concatenado.head()"
   ]
  },
  {
   "cell_type": "code",
   "execution_count": 8,
   "metadata": {},
   "outputs": [],
   "source": [
    "writer = pd.ExcelWriter('translated_document.xlsx')\n",
    "concatenado.to_excel(writer,'hoja 1',index=False)\n",
    "writer.save()"
   ]
  }
 ],
 "metadata": {
  "kernelspec": {
   "display_name": "Python 3",
   "language": "python",
   "name": "python3"
  },
  "language_info": {
   "codemirror_mode": {
    "name": "ipython",
    "version": 3
   },
   "file_extension": ".py",
   "mimetype": "text/x-python",
   "name": "python",
   "nbconvert_exporter": "python",
   "pygments_lexer": "ipython3",
   "version": "3.6.5"
  }
 },
 "nbformat": 4,
 "nbformat_minor": 2
}
