{
 "cells": [
  {
   "cell_type": "code",
   "execution_count": 1,
   "metadata": {},
   "outputs": [],
   "source": [
    "import pandas as pd\n",
    "import openpyxl"
   ]
  },
  {
   "cell_type": "code",
   "execution_count": 2,
   "metadata": {},
   "outputs": [],
   "source": [
    "fields = ['Brand', 'sku', 'category', 'name']"
   ]
  },
  {
   "cell_type": "code",
   "execution_count": 3,
   "metadata": {},
   "outputs": [
    {
     "name": "stdout",
     "output_type": "stream",
     "text": [
      "Wall time: 220 ms\n"
     ]
    }
   ],
   "source": [
    "time z = pd.read_csv(\"items_code_2.csv\", usecols=fields, dtype={\"Brand\": str, 'sku': str, 'category': str, 'name': str}, nrows=1000)"
   ]
  },
  {
   "cell_type": "code",
   "execution_count": 4,
   "metadata": {},
   "outputs": [
    {
     "data": {
      "text/html": [
       "<div>\n",
       "<style scoped>\n",
       "    .dataframe tbody tr th:only-of-type {\n",
       "        vertical-align: middle;\n",
       "    }\n",
       "\n",
       "    .dataframe tbody tr th {\n",
       "        vertical-align: top;\n",
       "    }\n",
       "\n",
       "    .dataframe thead th {\n",
       "        text-align: right;\n",
       "    }\n",
       "</style>\n",
       "<table border=\"1\" class=\"dataframe\">\n",
       "  <thead>\n",
       "    <tr style=\"text-align: right;\">\n",
       "      <th></th>\n",
       "      <th>Brand</th>\n",
       "      <th>category</th>\n",
       "      <th>name</th>\n",
       "      <th>sku</th>\n",
       "    </tr>\n",
       "  </thead>\n",
       "  <tbody>\n",
       "    <tr>\n",
       "      <th>0</th>\n",
       "      <td>BLASTER</td>\n",
       "      <td>Cleaning and Janitorial &gt;&gt; Cleaning Chemicals ...</td>\n",
       "      <td>Natural Solvent Cleaner/Degreaser, 11 oz. Aero...</td>\n",
       "      <td>4LRF6</td>\n",
       "    </tr>\n",
       "    <tr>\n",
       "      <th>1</th>\n",
       "      <td>LUMAPRO</td>\n",
       "      <td>Lighting &gt;&gt; Bulbs and Lamps &gt;&gt; Plug-In (PL) Lamps</td>\n",
       "      <td>26 Watts  Plug-In CFL, T4 PL, 4-Pin (G24Q-3), ...</td>\n",
       "      <td>35ZU36</td>\n",
       "    </tr>\n",
       "    <tr>\n",
       "      <th>2</th>\n",
       "      <td>NORTON</td>\n",
       "      <td>Abrasives &gt;&gt; Sanding Hand Pads and Sponges &gt;&gt; ...</td>\n",
       "      <td>Very Fine Grade, Sanding Hand Pad</td>\n",
       "      <td>4LL50</td>\n",
       "    </tr>\n",
       "    <tr>\n",
       "      <th>3</th>\n",
       "      <td>NORTON</td>\n",
       "      <td>Abrasives &gt;&gt; Sanding Hand Pads and Sponges &gt;&gt; ...</td>\n",
       "      <td>Very Fine Grade, Sanding Hand Pad</td>\n",
       "      <td>4LL48</td>\n",
       "    </tr>\n",
       "    <tr>\n",
       "      <th>4</th>\n",
       "      <td>NORTON</td>\n",
       "      <td>Abrasives &gt;&gt; Sanding Hand Pads and Sponges &gt;&gt; ...</td>\n",
       "      <td>Very Fine Grade, Sanding Hand Pad</td>\n",
       "      <td>4VB29</td>\n",
       "    </tr>\n",
       "  </tbody>\n",
       "</table>\n",
       "</div>"
      ],
      "text/plain": [
       "     Brand                                           category  \\\n",
       "0  BLASTER  Cleaning and Janitorial >> Cleaning Chemicals ...   \n",
       "1  LUMAPRO  Lighting >> Bulbs and Lamps >> Plug-In (PL) Lamps   \n",
       "2   NORTON  Abrasives >> Sanding Hand Pads and Sponges >> ...   \n",
       "3   NORTON  Abrasives >> Sanding Hand Pads and Sponges >> ...   \n",
       "4   NORTON  Abrasives >> Sanding Hand Pads and Sponges >> ...   \n",
       "\n",
       "                                                name     sku  \n",
       "0  Natural Solvent Cleaner/Degreaser, 11 oz. Aero...   4LRF6  \n",
       "1  26 Watts  Plug-In CFL, T4 PL, 4-Pin (G24Q-3), ...  35ZU36  \n",
       "2                  Very Fine Grade, Sanding Hand Pad   4LL50  \n",
       "3                  Very Fine Grade, Sanding Hand Pad   4LL48  \n",
       "4                  Very Fine Grade, Sanding Hand Pad   4VB29  "
      ]
     },
     "execution_count": 4,
     "metadata": {},
     "output_type": "execute_result"
    }
   ],
   "source": [
    "z.head()"
   ]
  },
  {
   "cell_type": "code",
   "execution_count": 5,
   "metadata": {},
   "outputs": [
    {
     "data": {
      "text/html": [
       "<div>\n",
       "<style scoped>\n",
       "    .dataframe tbody tr th:only-of-type {\n",
       "        vertical-align: middle;\n",
       "    }\n",
       "\n",
       "    .dataframe tbody tr th {\n",
       "        vertical-align: top;\n",
       "    }\n",
       "\n",
       "    .dataframe thead th {\n",
       "        text-align: right;\n",
       "    }\n",
       "</style>\n",
       "<table border=\"1\" class=\"dataframe\">\n",
       "  <thead>\n",
       "    <tr style=\"text-align: right;\">\n",
       "      <th></th>\n",
       "      <th>sku</th>\n",
       "    </tr>\n",
       "  </thead>\n",
       "  <tbody>\n",
       "    <tr>\n",
       "      <th>0</th>\n",
       "      <td>1AH99</td>\n",
       "    </tr>\n",
       "    <tr>\n",
       "      <th>1</th>\n",
       "      <td>2V553</td>\n",
       "    </tr>\n",
       "    <tr>\n",
       "      <th>2</th>\n",
       "      <td>2V423</td>\n",
       "    </tr>\n",
       "    <tr>\n",
       "      <th>3</th>\n",
       "      <td>2UUE4</td>\n",
       "    </tr>\n",
       "    <tr>\n",
       "      <th>4</th>\n",
       "      <td>2RA26</td>\n",
       "    </tr>\n",
       "  </tbody>\n",
       "</table>\n",
       "</div>"
      ],
      "text/plain": [
       "     sku\n",
       "0  1AH99\n",
       "1  2V553\n",
       "2  2V423\n",
       "3  2UUE4\n",
       "4  2RA26"
      ]
     },
     "execution_count": 5,
     "metadata": {},
     "output_type": "execute_result"
    }
   ],
   "source": [
    "skus = pd.read_csv(\"skus.csv\")\n",
    "skus.head()"
   ]
  },
  {
   "cell_type": "code",
   "execution_count": 6,
   "metadata": {},
   "outputs": [],
   "source": [
    "products = z.loc[:,['sku','name']]"
   ]
  },
  {
   "cell_type": "code",
   "execution_count": 7,
   "metadata": {},
   "outputs": [],
   "source": [
    "splitted = z.category.str.split('>>', expand=True)"
   ]
  },
  {
   "cell_type": "code",
   "execution_count": 8,
   "metadata": {},
   "outputs": [],
   "source": [
    "joined = products.join(splitted)"
   ]
  },
  {
   "cell_type": "code",
   "execution_count": 9,
   "metadata": {},
   "outputs": [],
   "source": [
    "merged = pd.merge(joined, skus, how='inner')"
   ]
  },
  {
   "cell_type": "code",
   "execution_count": 10,
   "metadata": {},
   "outputs": [
    {
     "data": {
      "text/html": [
       "<div>\n",
       "<style scoped>\n",
       "    .dataframe tbody tr th:only-of-type {\n",
       "        vertical-align: middle;\n",
       "    }\n",
       "\n",
       "    .dataframe tbody tr th {\n",
       "        vertical-align: top;\n",
       "    }\n",
       "\n",
       "    .dataframe thead th {\n",
       "        text-align: right;\n",
       "    }\n",
       "</style>\n",
       "<table border=\"1\" class=\"dataframe\">\n",
       "  <thead>\n",
       "    <tr style=\"text-align: right;\">\n",
       "      <th></th>\n",
       "      <th>sku</th>\n",
       "      <th>name</th>\n",
       "      <th>0</th>\n",
       "      <th>1</th>\n",
       "      <th>2</th>\n",
       "      <th>3</th>\n",
       "      <th>4</th>\n",
       "    </tr>\n",
       "  </thead>\n",
       "  <tbody>\n",
       "    <tr>\n",
       "      <th>0</th>\n",
       "      <td>4CR59</td>\n",
       "      <td>Short Plain Metric Black Oxide Ball End Hex Ke...</td>\n",
       "      <td>Tools</td>\n",
       "      <td>Wrenches</td>\n",
       "      <td>Hex and Torx Keys and Sets</td>\n",
       "      <td>None</td>\n",
       "      <td>None</td>\n",
       "    </tr>\n",
       "    <tr>\n",
       "      <th>1</th>\n",
       "      <td>2CYC7</td>\n",
       "      <td>Long Plain SAE/Metric Black Oxide Ball End Hex...</td>\n",
       "      <td>Tools</td>\n",
       "      <td>Wrenches</td>\n",
       "      <td>Hex and Torx Keys and Sets</td>\n",
       "      <td>None</td>\n",
       "      <td>None</td>\n",
       "    </tr>\n",
       "    <tr>\n",
       "      <th>2</th>\n",
       "      <td>4NB46</td>\n",
       "      <td>Long Plain Metric Chrome Ball End Hex Key Set,...</td>\n",
       "      <td>Tools</td>\n",
       "      <td>Wrenches</td>\n",
       "      <td>Hex and Torx Keys and Sets</td>\n",
       "      <td>None</td>\n",
       "      <td>None</td>\n",
       "    </tr>\n",
       "    <tr>\n",
       "      <th>3</th>\n",
       "      <td>2CYC6</td>\n",
       "      <td>Long Plain SAE Black Oxide Ball End Hex Key Se...</td>\n",
       "      <td>Tools</td>\n",
       "      <td>Wrenches</td>\n",
       "      <td>Hex and Torx Keys and Sets</td>\n",
       "      <td>None</td>\n",
       "      <td>None</td>\n",
       "    </tr>\n",
       "    <tr>\n",
       "      <th>4</th>\n",
       "      <td>4CR56</td>\n",
       "      <td>Long Plain SAE Black Oxide Ball End Hex Key Se...</td>\n",
       "      <td>Tools</td>\n",
       "      <td>Wrenches</td>\n",
       "      <td>Hex and Torx Keys and Sets</td>\n",
       "      <td>None</td>\n",
       "      <td>None</td>\n",
       "    </tr>\n",
       "  </tbody>\n",
       "</table>\n",
       "</div>"
      ],
      "text/plain": [
       "     sku                                               name       0  \\\n",
       "0  4CR59  Short Plain Metric Black Oxide Ball End Hex Ke...  Tools    \n",
       "1  2CYC7  Long Plain SAE/Metric Black Oxide Ball End Hex...  Tools    \n",
       "2  4NB46  Long Plain Metric Chrome Ball End Hex Key Set,...  Tools    \n",
       "3  2CYC6  Long Plain SAE Black Oxide Ball End Hex Key Se...  Tools    \n",
       "4  4CR56  Long Plain SAE Black Oxide Ball End Hex Key Se...  Tools    \n",
       "\n",
       "            1                            2     3     4  \n",
       "0   Wrenches    Hex and Torx Keys and Sets  None  None  \n",
       "1   Wrenches    Hex and Torx Keys and Sets  None  None  \n",
       "2   Wrenches    Hex and Torx Keys and Sets  None  None  \n",
       "3   Wrenches    Hex and Torx Keys and Sets  None  None  \n",
       "4   Wrenches    Hex and Torx Keys and Sets  None  None  "
      ]
     },
     "execution_count": 10,
     "metadata": {},
     "output_type": "execute_result"
    }
   ],
   "source": [
    "merged.head()"
   ]
  },
  {
   "cell_type": "code",
   "execution_count": 11,
   "metadata": {},
   "outputs": [
    {
     "data": {
      "text/plain": [
       "(8, 7)"
      ]
     },
     "execution_count": 11,
     "metadata": {},
     "output_type": "execute_result"
    }
   ],
   "source": [
    "merged.shape"
   ]
  },
  {
   "cell_type": "code",
   "execution_count": 12,
   "metadata": {},
   "outputs": [],
   "source": [
    "merged.to_csv('merged.csv', encoding='utf-8', index=False)"
   ]
  },
  {
   "cell_type": "code",
   "execution_count": 13,
   "metadata": {},
   "outputs": [],
   "source": []
  },
  {
   "cell_type": "code",
   "execution_count": 14,
   "metadata": {},
   "outputs": [],
   "source": [
    "#writer = pd.ExcelWriter('merged_v2.xlsx')\n",
    "#merged.to_excel(writer,'hoja 1',index=False)\n",
    "#writer.save()"
   ]
  }
 ],
 "metadata": {
  "kernelspec": {
   "display_name": "Python 3",
   "language": "python",
   "name": "python3"
  },
  "language_info": {
   "codemirror_mode": {
    "name": "ipython",
    "version": 3
   },
   "file_extension": ".py",
   "mimetype": "text/x-python",
   "name": "python",
   "nbconvert_exporter": "python",
   "pygments_lexer": "ipython3",
   "version": "3.6.5"
  }
 },
 "nbformat": 4,
 "nbformat_minor": 2
}
